{
 "cells": [
  {
   "cell_type": "code",
   "execution_count": 1,
   "metadata": {},
   "outputs": [
    {
     "name": "stdout",
     "output_type": "stream",
     "text": [
      "The current price of Bitcoin is: 9,711.1623 EUR\n",
      "The current price of Bitcoin is: 11,918.7100 USD\n",
      "Last Updated: Jan 19, 2018 12:15:00 UTC\n",
      "This data was produced from the CoinDesk Bitcoin Price Index (USD). Non-USD currency data converted using hourly conversion rate from openexchangerates.org\n"
     ]
    }
   ],
   "source": [
    "import requests\n",
    "import subprocess\n",
    "\n",
    "r = requests.get(\"https://api.coindesk.com/v1/bpi/currentprice.json\")\n",
    "# subprocess.call('cd /', shell=True)\n",
    "# subprocess.call('clear', shell=True)\n",
    "\n",
    "print('The current price of Bitcoin is: ' + r.json()['bpi']['EUR']['rate'] + \" \" + r.json()['bpi']['EUR']['code'])\n",
    "print('The current price of Bitcoin is: ' + r.json()['bpi']['USD']['rate'] + \" \" + r.json()['bpi']['USD']['code'])\n",
    "print('Last Updated: ' + r.json()['time']['updated'])\n",
    "# print('Bitcoin value is displayed via the Coindesk API.')\n",
    "print(r.json()['disclaimer'])\n",
    "# print(r.json())"
   ]
  },
  {
   "cell_type": "code",
   "execution_count": 16,
   "metadata": {},
   "outputs": [
    {
     "name": "stdout",
     "output_type": "stream",
     "text": [
      "[*********************100%***********************]  2 of 2 downloaded"
     ]
    },
    {
     "data": {
      "text/html": [
       "<div>\n",
       "<style scoped>\n",
       "    .dataframe tbody tr th:only-of-type {\n",
       "        vertical-align: middle;\n",
       "    }\n",
       "\n",
       "    .dataframe tbody tr th {\n",
       "        vertical-align: top;\n",
       "    }\n",
       "\n",
       "    .dataframe thead th {\n",
       "        text-align: right;\n",
       "    }\n",
       "</style>\n",
       "<table border=\"1\" class=\"dataframe\">\n",
       "  <thead>\n",
       "    <tr style=\"text-align: right;\">\n",
       "      <th></th>\n",
       "      <th>Open</th>\n",
       "      <th>High</th>\n",
       "      <th>Low</th>\n",
       "      <th>Close</th>\n",
       "      <th>Adj Close</th>\n",
       "      <th>Volume</th>\n",
       "    </tr>\n",
       "    <tr>\n",
       "      <th>Date</th>\n",
       "      <th></th>\n",
       "      <th></th>\n",
       "      <th></th>\n",
       "      <th></th>\n",
       "      <th></th>\n",
       "      <th></th>\n",
       "    </tr>\n",
       "  </thead>\n",
       "  <tbody>\n",
       "    <tr>\n",
       "      <th>2017-10-31</th>\n",
       "      <td>5288.640137</td>\n",
       "      <td>5553.020020</td>\n",
       "      <td>5243.319824</td>\n",
       "      <td>5540.379883</td>\n",
       "      <td>5540.379883</td>\n",
       "      <td>73046430</td>\n",
       "    </tr>\n",
       "    <tr>\n",
       "      <th>2017-11-01</th>\n",
       "      <td>5540.129883</td>\n",
       "      <td>5871.479980</td>\n",
       "      <td>5482.640137</td>\n",
       "      <td>5870.890137</td>\n",
       "      <td>5870.890137</td>\n",
       "      <td>101193430</td>\n",
       "    </tr>\n",
       "    <tr>\n",
       "      <th>2017-11-02</th>\n",
       "      <td>5870.890137</td>\n",
       "      <td>6426.609863</td>\n",
       "      <td>5779.649902</td>\n",
       "      <td>6077.350098</td>\n",
       "      <td>6077.350098</td>\n",
       "      <td>159019554</td>\n",
       "    </tr>\n",
       "    <tr>\n",
       "      <th>2017-11-03</th>\n",
       "      <td>6077.350098</td>\n",
       "      <td>6447.049805</td>\n",
       "      <td>6014.600098</td>\n",
       "      <td>6248.979980</td>\n",
       "      <td>6248.979980</td>\n",
       "      <td>117022837</td>\n",
       "    </tr>\n",
       "    <tr>\n",
       "      <th>2017-11-04</th>\n",
       "      <td>6248.979980</td>\n",
       "      <td>6449.740234</td>\n",
       "      <td>6079.319824</td>\n",
       "      <td>6384.049805</td>\n",
       "      <td>6384.049805</td>\n",
       "      <td>66628152</td>\n",
       "    </tr>\n",
       "  </tbody>\n",
       "</table>\n",
       "</div>"
      ],
      "text/plain": [
       "                   Open         High          Low        Close    Adj Close  \\\n",
       "Date                                                                          \n",
       "2017-10-31  5288.640137  5553.020020  5243.319824  5540.379883  5540.379883   \n",
       "2017-11-01  5540.129883  5871.479980  5482.640137  5870.890137  5870.890137   \n",
       "2017-11-02  5870.890137  6426.609863  5779.649902  6077.350098  6077.350098   \n",
       "2017-11-03  6077.350098  6447.049805  6014.600098  6248.979980  6248.979980   \n",
       "2017-11-04  6248.979980  6449.740234  6079.319824  6384.049805  6384.049805   \n",
       "\n",
       "               Volume  \n",
       "Date                   \n",
       "2017-10-31   73046430  \n",
       "2017-11-01  101193430  \n",
       "2017-11-02  159019554  \n",
       "2017-11-03  117022837  \n",
       "2017-11-04   66628152  "
      ]
     },
     "execution_count": 16,
     "metadata": {},
     "output_type": "execute_result"
    }
   ],
   "source": [
    "# from pandas_datareader import data\n",
    "# import pandas_datareader.data as pdr\n",
    "from pandas_datareader import data as pdr\n",
    "import fix_yahoo_finance as yf\n",
    "import matplotlib.pyplot as plt\n",
    "import pandas as pd\n",
    "import datetime\n",
    "\n",
    "startdate = datetime.datetime(2017, 11, 1)\n",
    "enddate = datetime.datetime(2018, 1, 18)\n",
    "# f = web.DataReader(\"F\", 'google', start, end)\n",
    "\n",
    "yf.pdr_override()  # <== that's all it takes :-)\n",
    "\n",
    "startdate\n",
    "# download dataframe\n",
    "data_BTC_USD = pdr.get_data_yahoo(\"BTC-USD\", start=\"2017-11-01\", end=\"2018-01-17\")\n",
    "data_BTC_EUR = pdr.get_data_yahoo(\"BTC-EUR\", start=startdate, end=enddate)\n",
    "\n",
    "# download Panel\n",
    "data = pdr.get_data_yahoo([\"SPY\", \"IWM\"], start=\"2017-01-01\", end=\"2017-04-30\")\n",
    "# amzn = web.get_quote_yahoo('AMZN')\n",
    "# amzn\n",
    "data_BTC_USD.head()\n",
    "data_BTC_EUR.head()"
   ]
  },
  {
   "cell_type": "code",
   "execution_count": 20,
   "metadata": {},
   "outputs": [
    {
     "name": "stdout",
     "output_type": "stream",
     "text": [
      "2017-11-01 00:00:00\n",
      "2018-01-19 14:20:25.858514\n"
     ]
    }
   ],
   "source": [
    "import datetime\n",
    "\n",
    "startdate = datetime.datetime(2017, 11, 1)\n",
    "enddate = datetime.datetime.now().\n",
    "print(startdate)\n",
    "print(enddate)"
   ]
  },
  {
   "cell_type": "code",
   "execution_count": 23,
   "metadata": {},
   "outputs": [
    {
     "data": {
      "text/plain": [
       "datetime.datetime(2017, 1, 1, 0, 0)"
      ]
     },
     "execution_count": 23,
     "metadata": {},
     "output_type": "execute_result"
    }
   ],
   "source": [
    "datetime.datetime("
   ]
  }
 ],
 "metadata": {
  "kernelspec": {
   "display_name": "Python 3",
   "language": "python",
   "name": "python3"
  },
  "language_info": {
   "codemirror_mode": {
    "name": "ipython",
    "version": 3
   },
   "file_extension": ".py",
   "mimetype": "text/x-python",
   "name": "python",
   "nbconvert_exporter": "python",
   "pygments_lexer": "ipython3",
   "version": "3.6.3"
  }
 },
 "nbformat": 4,
 "nbformat_minor": 2
}

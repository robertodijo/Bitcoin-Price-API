{
 "cells": [
  {
   "cell_type": "code",
   "execution_count": null,
   "metadata": {
    "collapsed": true
   },
   "outputs": [],
   "source": [
    "### \n",
    "# Geef een overzicht van mijn huidige crypto balans. De iphone app Blockfolio wordt hierbij als voorbeeld gebruikt.\n",
    "#\n"
   ]
  },
  {
   "cell_type": "code",
   "execution_count": 55,
   "metadata": {
    "scrolled": true
   },
   "outputs": [
    {
     "name": "stdout",
     "output_type": "stream",
     "text": [
      "                  Date   Market  Type     Price   Amount     Total       Fee Fee Coin\n",
      "0  2018-01-16 08:33:22   TRXBTC   BUY  0.000005   5992.0  0.029121  0.011549      BNB\n",
      "1  2018-01-16 08:33:21   TRXBTC   BUY  0.000005  39558.0  0.192252  0.076247      BNB\n",
      "2  2018-01-16 08:33:18   TRXBTC   BUY  0.000005    931.0  0.004525  0.001794      BNB\n",
      "3  2018-01-16 08:33:16   TRXBTC   BUY  0.000005  62151.0  0.302054  0.119795      BNB\n",
      "4  2018-01-13 21:51:42  VIBEBTC  SELL  0.000075   3011.0  0.224440  0.073892      BNB\n",
      "                   Date   Market Type     Price   Amount     Total       Fee Fee Coin\n",
      "40  2017-12-04 20:00:12   XRPETH  BUY  0.000528  1500.00  0.792075  0.074719      BNB\n",
      "41  2017-11-11 17:40:50   ARKETH  BUY  0.009100    34.38  0.312858  0.029839      BNB\n",
      "42  2017-11-11 14:41:42   BNBETH  BUY  0.005450    48.00  0.261600  0.024000      BNB\n",
      "43  2017-11-11 14:41:09   BNBETH  BUY  0.005450     9.00  0.049050  0.004500      BNB\n",
      "44  2017-11-11 00:41:06  NULSETH  BUY  0.001990   188.00  0.374120  0.188000     NULS\n"
     ]
    },
    {
     "data": {
      "text/plain": [
       "RangeIndex(start=0, stop=45, step=1)"
      ]
     },
     "execution_count": 55,
     "metadata": {},
     "output_type": "execute_result"
    }
   ],
   "source": [
    "import pandas as pd\n",
    "filepath = \"C:\\\\Users\\\\rober\\\\Desktop\\\\binance\"\n",
    "filename = \"TradeHistory-16jan2018.xlsx\"\n",
    "file = filepath + \"\\\\\" + filename\n",
    "\n",
    "df = pd.read_excel(file, sheetname=0)\n",
    "# print(type(data))\n",
    "# pd.set_option('display.width', 1000)\n",
    "print(df.head())\n",
    "print(df.tail())\n",
    "df.index"
   ]
  },
  {
   "cell_type": "code",
   "execution_count": 56,
   "metadata": {},
   "outputs": [
    {
     "data": {
      "text/plain": [
       "Index(['Date', 'Market', 'Type', 'Price', 'Amount', 'Total', 'Fee', 'Fee Coin'], dtype='object')"
      ]
     },
     "execution_count": 56,
     "metadata": {},
     "output_type": "execute_result"
    }
   ],
   "source": [
    "df.columns"
   ]
  },
  {
   "cell_type": "code",
   "execution_count": 99,
   "metadata": {},
   "outputs": [
    {
     "data": {
      "text/html": [
       "<div>\n",
       "<style>\n",
       "    .dataframe thead tr:only-child th {\n",
       "        text-align: right;\n",
       "    }\n",
       "\n",
       "    .dataframe thead th {\n",
       "        text-align: left;\n",
       "    }\n",
       "\n",
       "    .dataframe tbody tr th {\n",
       "        vertical-align: top;\n",
       "    }\n",
       "</style>\n",
       "<table border=\"1\" class=\"dataframe\">\n",
       "  <thead>\n",
       "    <tr style=\"text-align: right;\">\n",
       "      <th></th>\n",
       "      <th>Market</th>\n",
       "      <th>Amount</th>\n",
       "    </tr>\n",
       "  </thead>\n",
       "  <tbody>\n",
       "    <tr>\n",
       "      <th>3</th>\n",
       "      <td>TRXBTC</td>\n",
       "      <td>62151.0</td>\n",
       "    </tr>\n",
       "    <tr>\n",
       "      <th>5</th>\n",
       "      <td>VIBEBTC</td>\n",
       "      <td>340.0</td>\n",
       "    </tr>\n",
       "  </tbody>\n",
       "</table>\n",
       "</div>"
      ],
      "text/plain": [
       "    Market   Amount\n",
       "3   TRXBTC  62151.0\n",
       "5  VIBEBTC    340.0"
      ]
     },
     "execution_count": 99,
     "metadata": {},
     "output_type": "execute_result"
    }
   ],
   "source": [
    "df.loc[[3,5],['Market','Amount']]"
   ]
  },
  {
   "cell_type": "code",
   "execution_count": 105,
   "metadata": {},
   "outputs": [],
   "source": [
    "####\n",
    "# a transaction contains:\n",
    "# Trading pair\n",
    "# Transaction_type: Buy, Sell\n",
    "# Trade Price\n",
    "# Quantity\n",
    "# Total value\n",
    "# Trade date\n",
    "\n",
    "# for trading_pair, transaction_type, trade_price, quantity in zip"
   ]
  },
  {
   "cell_type": "code",
   "execution_count": 109,
   "metadata": {},
   "outputs": [
    {
     "name": "stdout",
     "output_type": "stream",
     "text": [
      "\n",
      "Group 1 ADABTC\n",
      "                   Date  Market Type    Price  Amount     Total       Fee Fee Coin\n",
      "35  2017-12-06 08:39:35  ADABTC  BUY  0.00001   105.0  0.001044  0.002555      BNB\n",
      "\n",
      "Group 2 ADAETH\n",
      "                   Date  Market Type     Price  Amount     Total       Fee Fee Coin\n",
      "25  2017-12-07 23:22:09  ADAETH  BUY  0.000256    18.0  0.004609  0.000352      BNB\n",
      "26  2017-12-07 23:22:08  ADAETH  BUY  0.000256    90.0  0.023047  0.001762      BNB\n",
      "27  2017-12-07 23:22:07  ADAETH  BUY  0.000256  1860.0  0.476309  0.036420      BNB\n",
      "28  2017-12-07 23:22:07  ADAETH  BUY  0.000256  2157.0  0.552365  0.041956      BNB\n",
      "29  2017-12-07 23:22:07  ADAETH  BUY  0.000256    90.0  0.023047  0.001751      BNB\n",
      "30  2017-12-07 23:22:07  ADAETH  BUY  0.000256  2196.0  0.562352  0.042714      BNB\n",
      "31  2017-12-07 23:22:06  ADAETH  BUY  0.000256  2006.0  0.513696  0.039018      BNB\n",
      "32  2017-12-07 23:22:00  ADAETH  BUY  0.000256  1058.0  0.270933  0.020749      BNB\n",
      "33  2017-12-07 23:22:00  ADAETH  BUY  0.000256  1252.0  0.320612  0.024554      BNB\n",
      "34  2017-12-07 14:28:48  ADAETH  BUY  0.000282  6193.0  1.746426  0.130906      BNB\n",
      "\n",
      "Group 3 ARKETH\n",
      "                   Date  Market Type   Price  Amount     Total       Fee Fee Coin\n",
      "41  2017-11-11 17:40:50  ARKETH  BUY  0.0091   34.38  0.312858  0.029839      BNB\n",
      "\n",
      "Group 4 BNBETH\n",
      "                   Date  Market Type    Price  Amount    Total     Fee Fee Coin\n",
      "42  2017-11-11 14:41:42  BNBETH  BUY  0.00545    48.0  0.26160  0.0240      BNB\n",
      "43  2017-11-11 14:41:09  BNBETH  BUY  0.00545     9.0  0.04905  0.0045      BNB\n",
      "\n",
      "Group 5 NULSBTC\n",
      "                   Date   Market  Type    Price  Amount    Total       Fee Fee Coin\n",
      "22  2018-01-11 05:59:55  NULSBTC  SELL  0.00055   187.0  0.10285  0.043765      BNB\n",
      "\n",
      "Group 6 NULSETH\n",
      "                   Date   Market Type    Price  Amount    Total    Fee Fee Coin\n",
      "44  2017-11-11 00:41:06  NULSETH  BUY  0.00199   188.0  0.37412  0.188     NULS\n",
      "\n",
      "Group 7 POWRBTC\n",
      "                   Date   Market Type     Price  Amount    Total       Fee Fee Coin\n",
      "23  2017-12-09 22:25:06  POWRBTC  BUY  0.000038   209.0  0.00794  0.023762      BNB\n",
      "\n",
      "Group 8 TRXBTC\n",
      "                   Date  Market Type         Price   Amount     Total       Fee Fee Coin\n",
      "0   2018-01-16 08:33:22  TRXBTC  BUY  4.860000e-06   5992.0  0.029121  0.011549      BNB\n",
      "1   2018-01-16 08:33:21  TRXBTC  BUY  4.860000e-06  39558.0  0.192252  0.076247      BNB\n",
      "2   2018-01-16 08:33:18  TRXBTC  BUY  4.860000e-06    931.0  0.004525  0.001794      BNB\n",
      "3   2018-01-16 08:33:16  TRXBTC  BUY  4.860000e-06  62151.0  0.302054  0.119795      BNB\n",
      "37  2017-12-05 22:45:03  TRXBTC  BUY  1.700000e-07   6144.0  0.001044  0.002372      BNB\n",
      "\n",
      "Group 9 VIBEBTC\n",
      "                   Date   Market  Type     Price  Amount     Total       Fee Fee Coin\n",
      "4   2018-01-13 21:51:42  VIBEBTC  SELL  0.000075  3011.0  0.224440  0.073892      BNB\n",
      "5   2018-01-13 21:51:40  VIBEBTC  SELL  0.000075   340.0  0.025344  0.008342      BNB\n",
      "6   2018-01-13 21:51:40  VIBEBTC  SELL  0.000075  1464.0  0.109127  0.035921      BNB\n",
      "7   2018-01-13 21:51:38  VIBEBTC  SELL  0.000075   926.0  0.069024  0.022720      BNB\n",
      "8   2018-01-13 21:51:38  VIBEBTC  SELL  0.000075  1764.0  0.131489  0.043281      BNB\n",
      "9   2018-01-13 21:51:32  VIBEBTC  SELL  0.000075   150.0  0.011181  0.003681      BNB\n",
      "10  2018-01-13 21:51:21  VIBEBTC  SELL  0.000075   207.0  0.015430  0.005076      BNB\n",
      "11  2018-01-13 21:51:16  VIBEBTC  SELL  0.000075    40.0  0.002982  0.000981      BNB\n",
      "12  2018-01-13 21:51:12  VIBEBTC  SELL  0.000075   316.0  0.023555  0.007749      BNB\n",
      "13  2018-01-13 21:51:11  VIBEBTC  SELL  0.000075    75.0  0.005590  0.001837      BNB\n",
      "14  2018-01-13 21:51:08  VIBEBTC  SELL  0.000075  1066.0  0.079460  0.026157      BNB\n",
      "15  2018-01-12 20:51:33  VIBEBTC   BUY  0.000100  3677.0  0.367810  0.112302      BNB\n",
      "16  2018-01-12 20:51:31  VIBEBTC   BUY  0.000100    25.0  0.002501  0.000764      BNB\n",
      "17  2018-01-12 20:51:28  VIBEBTC   BUY  0.000100    54.0  0.005402  0.001649      BNB\n",
      "18  2018-01-12 20:51:26  VIBEBTC   BUY  0.000100  1415.0  0.141542  0.043210      BNB\n",
      "19  2018-01-12 20:50:35  VIBEBTC   BUY  0.000100  1533.0  0.153346  0.046971      BNB\n",
      "21  2018-01-12 17:04:27  VIBEBTC   BUY  0.000091  2655.0  0.241605  0.072583      BNB\n",
      "\n",
      "Group 10 XRPBTC\n",
      "                   Date  Market  Type     Price  Amount     Total       Fee Fee Coin\n",
      "20  2018-01-12 20:46:59  XRPBTC  SELL  0.000143  4724.0  0.676902  0.206158      BNB\n",
      "24  2017-12-08 11:49:42  XRPBTC   BUY  0.000016  2515.0  0.039234  0.120313      BNB\n",
      "36  2017-12-05 23:41:23  XRPBTC   BUY  0.000020   105.0  0.002078  0.004774      BNB\n",
      "38  2017-12-05 13:34:59  XRPBTC   BUY  0.000020   204.0  0.004147  0.009250      BNB\n",
      "\n",
      "Group 11 XRPETH\n",
      "                   Date  Market Type     Price  Amount     Total       Fee Fee Coin\n",
      "39  2017-12-04 22:21:28  XRPETH  BUY  0.000525   400.0  0.210012  0.019727      BNB\n",
      "40  2017-12-04 20:00:12  XRPETH  BUY  0.000528  1500.0  0.792075  0.074719      BNB\n"
     ]
    }
   ],
   "source": [
    "trading_group = df.groupby('Market')\n",
    "i=0\n",
    "for name,group in trading_group:\n",
    "    i+=1\n",
    "    print(\"\\nGroup\",i,name)\n",
    "    print(group)"
   ]
  },
  {
   "cell_type": "code",
   "execution_count": 127,
   "metadata": {},
   "outputs": [
    {
     "name": "stdout",
     "output_type": "stream",
     "text": [
      "Net Cost: 0.5597748\n",
      "Market value: 0.69108\n",
      "108232\n",
      "6544\n",
      "purchase share price: 0.00000458\n"
     ]
    }
   ],
   "source": [
    "trading_pair=\"TRXBTC\"\n",
    "holdings = 115180\n",
    "current_price=0.00000600\n",
    "purchase_price=0.00000486\n",
    "net_cost=holdings * purchase_price\n",
    "market_value=holdings * current_price\n",
    "\n",
    "print(\"Net Cost: {}\".format(net_cost))\n",
    "print(\"Market value: {}\".format(market_value))\n",
    "\n",
    "trx_coins1=62151+931+39558+5592\n",
    "trx_cost1=trx_coins1*0.00000486\n",
    "trx_coins2=6544\n",
    "trx_cost2=trx_coins2*0.000000017\n",
    "trx_total_cost=trx_cost1+trx_cost2\n",
    "trx_total_coins=trx_coins1+trx_coins2\n",
    "print(trx_coins1)\n",
    "print(trx_coins2)\n",
    "print(\"purchase share price: {:.8f}\".format(trx_total_cost/trx_total_coins))"
   ]
  }
 ],
 "metadata": {
  "kernelspec": {
   "display_name": "Python 3",
   "language": "python",
   "name": "python3"
  },
  "language_info": {
   "codemirror_mode": {
    "name": "ipython",
    "version": 3
   },
   "file_extension": ".py",
   "mimetype": "text/x-python",
   "name": "python",
   "nbconvert_exporter": "python",
   "pygments_lexer": "ipython3",
   "version": "3.6.3"
  }
 },
 "nbformat": 4,
 "nbformat_minor": 2
}
